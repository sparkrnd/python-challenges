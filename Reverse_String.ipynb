{
 "cells": [
  {
   "cell_type": "code",
   "execution_count": 9,
   "id": "14b93dec",
   "metadata": {},
   "outputs": [
    {
     "name": "stdout",
     "output_type": "stream",
     "text": [
      "['Geeks', 'quiz', 'practice', 'code']\n",
      " code practice quiz Geeks\n"
     ]
    }
   ],
   "source": [
    "# Reverse String\n",
    "\n",
    "# Method 1 \n",
    "string = \"how \"\n",
    "s = string.split()\n",
    "print(s)\n",
    "s1 = ''\n",
    "for i in range(1, len(s)+1):\n",
    "    s1 = s1 + ' ' + s[-i]\n",
    "    \n",
    "\n",
    "print(s1)"
   ]
  },
  {
   "cell_type": "code",
   "execution_count": 12,
   "id": "6ceadf0a",
   "metadata": {},
   "outputs": [
    {
     "name": "stdout",
     "output_type": "stream",
     "text": [
      "['Geeks', 'quiz', 'practice', 'code']\n",
      "code practice quiz Geeks\n"
     ]
    }
   ],
   "source": [
    "# Method 2\n",
    "\n",
    "string = \"Geeks quiz practice code\"\n",
    "s = string.split()\n",
    "print(s)\n",
    "s1 = ''\n",
    "# for i in range(1, len(s)+1):\n",
    "#     s1 = s1 + ' ' + s[-i]\n",
    "s1 = ' '.join(reversed(s))\n",
    "\n",
    "print(s1)"
   ]
  }
 ],
 "metadata": {
  "kernelspec": {
   "display_name": "Python 3 (ipykernel)",
   "language": "python",
   "name": "python3"
  },
  "language_info": {
   "codemirror_mode": {
    "name": "ipython",
    "version": 3
   },
   "file_extension": ".py",
   "mimetype": "text/x-python",
   "name": "python",
   "nbconvert_exporter": "python",
   "pygments_lexer": "ipython3",
   "version": "3.9.12"
  }
 },
 "nbformat": 4,
 "nbformat_minor": 5
}
